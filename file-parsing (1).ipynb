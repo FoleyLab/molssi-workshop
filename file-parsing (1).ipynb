{
 "cells": [
  {
   "cell_type": "markdown",
   "metadata": {},
   "source": [
    "# File parsing lesson\n",
    "September 15 2022"
   ]
  },
  {
   "cell_type": "code",
   "execution_count": 1,
   "metadata": {},
   "outputs": [
    {
     "data": {
      "text/plain": [
       "'/Users/jfoley19/Code/molssi-workshop'"
      ]
     },
     "execution_count": 1,
     "metadata": {},
     "output_type": "execute_result"
    }
   ],
   "source": [
    "pwd"
   ]
  },
  {
   "cell_type": "code",
   "execution_count": 2,
   "metadata": {},
   "outputs": [],
   "source": [
    "# YOU SHOULD NEVER DO A FILEPATH THIS WAY!\n",
    "#ethanol_file = 'data/outfiles/ethanol.out'"
   ]
  },
  {
   "cell_type": "code",
   "execution_count": 3,
   "metadata": {},
   "outputs": [],
   "source": [
    "import os"
   ]
  },
  {
   "cell_type": "code",
   "execution_count": 4,
   "metadata": {},
   "outputs": [
    {
     "name": "stdout",
     "output_type": "stream",
     "text": [
      "data/outfiles/ethanol.out\n"
     ]
    }
   ],
   "source": [
    "ethanol_file = os.path.join('data', 'outfiles', 'ethanol.out')\n",
    "print(ethanol_file)"
   ]
  },
  {
   "cell_type": "code",
   "execution_count": 5,
   "metadata": {},
   "outputs": [],
   "source": [
    "outfile = open(ethanol_file, 'r')\n",
    "data = outfile.readlines()\n",
    "outfile.close()"
   ]
  },
  {
   "cell_type": "code",
   "execution_count": 6,
   "metadata": {},
   "outputs": [
    {
     "name": "stdout",
     "output_type": "stream",
     "text": [
      "  ==> Algorithm <==\n",
      "\n"
     ]
    }
   ],
   "source": [
    "print(data[101])"
   ]
  },
  {
   "cell_type": "code",
   "execution_count": 7,
   "metadata": {},
   "outputs": [
    {
     "name": "stdout",
     "output_type": "stream",
     "text": [
      "  @DF-RHF Final Energy:  -154.09130176573018\n",
      "\n"
     ]
    }
   ],
   "source": [
    "for line in data:\n",
    "    if 'Final Energy' in line:\n",
    "        energy_line = line\n",
    "        print(energy_line)"
   ]
  },
  {
   "cell_type": "code",
   "execution_count": 8,
   "metadata": {},
   "outputs": [
    {
     "name": "stdout",
     "output_type": "stream",
     "text": [
      "['@DF-RHF', 'Final', 'Energy:', '-154.09130176573018']\n"
     ]
    }
   ],
   "source": [
    "words = energy_line.split()\n",
    "print(words)"
   ]
  },
  {
   "cell_type": "code",
   "execution_count": 9,
   "metadata": {},
   "outputs": [],
   "source": [
    "energy = float(words[3])"
   ]
  },
  {
   "cell_type": "code",
   "execution_count": 10,
   "metadata": {},
   "outputs": [
    {
     "data": {
      "text/plain": [
       "-104.09130176573018"
      ]
     },
     "execution_count": 10,
     "metadata": {},
     "output_type": "execute_result"
    }
   ],
   "source": [
    "energy + 50"
   ]
  },
  {
   "cell_type": "code",
   "execution_count": 11,
   "metadata": {},
   "outputs": [],
   "source": [
    "import glob \n"
   ]
  },
  {
   "cell_type": "code",
   "execution_count": 12,
   "metadata": {},
   "outputs": [],
   "source": [
    "filelocation = os.path.join('data', 'outfiles','*.out')\n",
    "filenames = glob.glob(filelocation)"
   ]
  },
  {
   "cell_type": "code",
   "execution_count": 13,
   "metadata": {},
   "outputs": [
    {
     "name": "stdout",
     "output_type": "stream",
     "text": [
      "['data/outfiles/propanol.out', 'data/outfiles/pentanol.out', 'data/outfiles/decanol.out', 'data/outfiles/methanol.out', 'data/outfiles/octanol.out', 'data/outfiles/ethanol.out', 'data/outfiles/hexanol.out', 'data/outfiles/heptanol.out', 'data/outfiles/butanol.out', 'data/outfiles/nonanol.out']\n"
     ]
    }
   ],
   "source": [
    "print(filenames)"
   ]
  },
  {
   "cell_type": "code",
   "execution_count": 14,
   "metadata": {},
   "outputs": [
    {
     "name": "stdout",
     "output_type": "stream",
     "text": [
      "data/outfiles/propanol.out : -193.12836249728798\n",
      "data/outfiles/pentanol.out : -271.20138119895074\n",
      "data/outfiles/decanol.out : -466.3836241400086\n",
      "data/outfiles/methanol.out : -115.04800861868374\n",
      "data/outfiles/octanol.out : -388.3110864554743\n",
      "data/outfiles/ethanol.out : -154.09130176573018\n",
      "data/outfiles/hexanol.out : -310.2385332251633\n",
      "data/outfiles/heptanol.out : -349.27397687072676\n",
      "data/outfiles/butanol.out : -232.1655798347283\n",
      "data/outfiles/nonanol.out : -427.3465180082815\n"
     ]
    }
   ],
   "source": [
    "for file in filenames:\n",
    "    outfile = open(file, 'r')\n",
    "    data = outfile.readlines()\n",
    "    outfile.close()\n",
    "    for line in data:\n",
    "        if 'Final Energy' in line:\n",
    "            energy_line = line\n",
    "            words = energy_line.split()\n",
    "            energy = float(words[3])\n",
    "            print(F'{file} : {energy}')\n",
    "    "
   ]
  },
  {
   "cell_type": "markdown",
   "metadata": {},
   "source": [
    "- Open 03_Prod.mdout in the main data folder\n",
    "- Find all values of 'Etot' (format is like 'Etot = -4585.1231' and you are specifically interested in the numbers) and append to a list\n",
    "- Print the list"
   ]
  },
  {
   "cell_type": "code",
   "execution_count": 15,
   "metadata": {},
   "outputs": [],
   "source": [
    "md_path = os.path.join('data', '03_Prod.mdout')"
   ]
  },
  {
   "cell_type": "code",
   "execution_count": 16,
   "metadata": {},
   "outputs": [],
   "source": [
    "md_out = open(md_path, 'r')\n",
    "md_data = md_out.readlines()\n",
    "outfile.close()"
   ]
  },
  {
   "cell_type": "code",
   "execution_count": 21,
   "metadata": {},
   "outputs": [
    {
     "name": "stdout",
     "output_type": "stream",
     "text": [
      "data/outfiles/nonanol.out : -4585.1049\n",
      "data/outfiles/nonanol.out : -4573.5326\n",
      "data/outfiles/nonanol.out : -4548.1223\n",
      "data/outfiles/nonanol.out : -4525.341\n",
      "data/outfiles/nonanol.out : -4542.8995\n",
      "data/outfiles/nonanol.out : -4550.9376\n",
      "data/outfiles/nonanol.out : -4543.8652\n",
      "data/outfiles/nonanol.out : -4570.4109\n",
      "data/outfiles/nonanol.out : -4550.4225\n",
      "data/outfiles/nonanol.out : -4585.2078\n",
      "data/outfiles/nonanol.out : -4577.3788\n",
      "data/outfiles/nonanol.out : -4583.5594\n",
      "data/outfiles/nonanol.out : -4605.5086\n",
      "data/outfiles/nonanol.out : -4615.42\n",
      "data/outfiles/nonanol.out : -4583.6069\n",
      "data/outfiles/nonanol.out : -4534.2492\n",
      "data/outfiles/nonanol.out : -4571.4911\n",
      "data/outfiles/nonanol.out : -4580.2937\n",
      "data/outfiles/nonanol.out : -4555.4327\n",
      "data/outfiles/nonanol.out : -4567.5687\n",
      "data/outfiles/nonanol.out : -4566.0038\n",
      "data/outfiles/nonanol.out : -4547.9737\n",
      "data/outfiles/nonanol.out : -4603.6717\n",
      "data/outfiles/nonanol.out : -4611.0889\n",
      "data/outfiles/nonanol.out : -4694.2189\n",
      "data/outfiles/nonanol.out : -4678.6558\n",
      "data/outfiles/nonanol.out : -4679.2889\n",
      "data/outfiles/nonanol.out : -4650.4214\n",
      "data/outfiles/nonanol.out : -4637.4849\n",
      "data/outfiles/nonanol.out : -4677.2461\n",
      "data/outfiles/nonanol.out : -4659.6974\n",
      "data/outfiles/nonanol.out : -4592.83\n",
      "data/outfiles/nonanol.out : -4622.1237\n",
      "data/outfiles/nonanol.out : -4626.0868\n",
      "data/outfiles/nonanol.out : -4614.5996\n",
      "data/outfiles/nonanol.out : -4625.5348\n",
      "data/outfiles/nonanol.out : -4569.7752\n",
      "data/outfiles/nonanol.out : -4625.0792\n",
      "data/outfiles/nonanol.out : -4653.4614\n",
      "data/outfiles/nonanol.out : -4637.6852\n",
      "data/outfiles/nonanol.out : -4643.8673\n",
      "data/outfiles/nonanol.out : -4619.5255\n",
      "data/outfiles/nonanol.out : -4663.3843\n",
      "data/outfiles/nonanol.out : -4631.8386\n",
      "data/outfiles/nonanol.out : -4680.3524\n",
      "data/outfiles/nonanol.out : -4722.1579\n",
      "data/outfiles/nonanol.out : -4696.5022\n",
      "data/outfiles/nonanol.out : -4729.6126\n",
      "data/outfiles/nonanol.out : -4703.1835\n",
      "data/outfiles/nonanol.out : -4707.8668\n",
      "data/outfiles/nonanol.out : -4660.0768\n",
      "data/outfiles/nonanol.out : -4673.0967\n",
      "data/outfiles/nonanol.out : -4656.3795\n",
      "data/outfiles/nonanol.out : -4627.921\n",
      "data/outfiles/nonanol.out : -4599.7806\n",
      "data/outfiles/nonanol.out : -4648.8831\n",
      "data/outfiles/nonanol.out : -4649.4773\n",
      "data/outfiles/nonanol.out : -4665.3345\n",
      "data/outfiles/nonanol.out : -4693.9727\n",
      "data/outfiles/nonanol.out : -4726.4832\n",
      "data/outfiles/nonanol.out : -4744.9909\n",
      "data/outfiles/nonanol.out : -4788.9469\n",
      "data/outfiles/nonanol.out : -4724.8673\n",
      "data/outfiles/nonanol.out : -4724.9143\n",
      "data/outfiles/nonanol.out : -4685.332\n",
      "data/outfiles/nonanol.out : -4721.0018\n",
      "data/outfiles/nonanol.out : -4755.1232\n",
      "data/outfiles/nonanol.out : -4810.7441\n",
      "data/outfiles/nonanol.out : -4796.7949\n",
      "data/outfiles/nonanol.out : -4737.2496\n",
      "data/outfiles/nonanol.out : -4735.1629\n",
      "data/outfiles/nonanol.out : -4733.8855\n",
      "data/outfiles/nonanol.out : -4781.2227\n",
      "data/outfiles/nonanol.out : -4789.1473\n",
      "data/outfiles/nonanol.out : -4813.7562\n",
      "data/outfiles/nonanol.out : -4817.4775\n",
      "data/outfiles/nonanol.out : -4822.1009\n",
      "data/outfiles/nonanol.out : -4788.4856\n",
      "data/outfiles/nonanol.out : -4816.5778\n",
      "data/outfiles/nonanol.out : -4843.6187\n",
      "data/outfiles/nonanol.out : -4867.3389\n",
      "data/outfiles/nonanol.out : -4829.6258\n",
      "data/outfiles/nonanol.out : -4839.4063\n",
      "data/outfiles/nonanol.out : -4856.7404\n",
      "data/outfiles/nonanol.out : -4827.9999\n",
      "data/outfiles/nonanol.out : -4789.496\n",
      "data/outfiles/nonanol.out : -4807.4737\n",
      "data/outfiles/nonanol.out : -4822.8427\n",
      "data/outfiles/nonanol.out : -4841.7963\n",
      "data/outfiles/nonanol.out : -4852.5445\n",
      "data/outfiles/nonanol.out : -4794.1774\n",
      "data/outfiles/nonanol.out : -4795.4408\n",
      "data/outfiles/nonanol.out : -4843.1092\n",
      "data/outfiles/nonanol.out : -4861.5219\n",
      "data/outfiles/nonanol.out : -4861.1394\n",
      "data/outfiles/nonanol.out : -4874.9262\n",
      "data/outfiles/nonanol.out : -4895.8931\n",
      "data/outfiles/nonanol.out : -4925.8895\n",
      "data/outfiles/nonanol.out : -4973.8736\n",
      "data/outfiles/nonanol.out : -4988.7908\n",
      "data/outfiles/nonanol.out : -4945.5981\n",
      "data/outfiles/nonanol.out : -4916.3219\n",
      "data/outfiles/nonanol.out : -4921.4063\n",
      "data/outfiles/nonanol.out : -4911.1395\n",
      "data/outfiles/nonanol.out : -4874.5853\n",
      "data/outfiles/nonanol.out : -4874.531\n",
      "data/outfiles/nonanol.out : -4881.881\n",
      "data/outfiles/nonanol.out : -4891.6363\n",
      "data/outfiles/nonanol.out : -4896.9142\n",
      "data/outfiles/nonanol.out : -4912.6121\n",
      "data/outfiles/nonanol.out : -4904.3068\n",
      "data/outfiles/nonanol.out : -4929.841\n",
      "data/outfiles/nonanol.out : -4953.1665\n",
      "data/outfiles/nonanol.out : -4984.0176\n",
      "data/outfiles/nonanol.out : -4980.7061\n",
      "data/outfiles/nonanol.out : -4938.8474\n",
      "data/outfiles/nonanol.out : -4963.1656\n",
      "data/outfiles/nonanol.out : -4955.5246\n",
      "data/outfiles/nonanol.out : -4906.5723\n",
      "data/outfiles/nonanol.out : -4930.7026\n",
      "data/outfiles/nonanol.out : -4928.7367\n",
      "data/outfiles/nonanol.out : -4857.161\n",
      "data/outfiles/nonanol.out : -4886.8174\n",
      "data/outfiles/nonanol.out : -4817.6888\n",
      "data/outfiles/nonanol.out : -4872.9481\n",
      "data/outfiles/nonanol.out : -4894.4047\n",
      "data/outfiles/nonanol.out : -4885.6957\n",
      "data/outfiles/nonanol.out : -4923.2417\n",
      "data/outfiles/nonanol.out : -4897.3522\n",
      "data/outfiles/nonanol.out : -4892.6689\n",
      "data/outfiles/nonanol.out : -4893.3622\n",
      "data/outfiles/nonanol.out : -4838.7241\n",
      "data/outfiles/nonanol.out : -4836.7701\n",
      "data/outfiles/nonanol.out : -4760.9359\n",
      "data/outfiles/nonanol.out : -4784.3831\n",
      "data/outfiles/nonanol.out : -4744.1472\n",
      "data/outfiles/nonanol.out : -4728.4061\n",
      "data/outfiles/nonanol.out : -4750.2233\n",
      "data/outfiles/nonanol.out : -4867.9914\n",
      "data/outfiles/nonanol.out : -4923.5577\n",
      "data/outfiles/nonanol.out : -4897.1107\n",
      "data/outfiles/nonanol.out : -4911.9463\n",
      "data/outfiles/nonanol.out : -4915.2124\n",
      "data/outfiles/nonanol.out : -4877.766\n",
      "data/outfiles/nonanol.out : -4853.0504\n",
      "data/outfiles/nonanol.out : -4857.4078\n",
      "data/outfiles/nonanol.out : -4825.9871\n",
      "data/outfiles/nonanol.out : -4812.0551\n",
      "data/outfiles/nonanol.out : -4846.6835\n",
      "data/outfiles/nonanol.out : -4846.4495\n",
      "data/outfiles/nonanol.out : -4878.3125\n",
      "data/outfiles/nonanol.out : -4932.9309\n",
      "data/outfiles/nonanol.out : -4942.1183\n",
      "data/outfiles/nonanol.out : -4939.392\n",
      "data/outfiles/nonanol.out : -4911.1468\n",
      "data/outfiles/nonanol.out : -4917.1998\n",
      "data/outfiles/nonanol.out : -4925.0586\n",
      "data/outfiles/nonanol.out : -4901.7294\n",
      "data/outfiles/nonanol.out : -4904.7184\n",
      "data/outfiles/nonanol.out : -4881.9266\n",
      "data/outfiles/nonanol.out : -4853.0225\n",
      "data/outfiles/nonanol.out : -4887.513\n",
      "data/outfiles/nonanol.out : -4842.1109\n",
      "data/outfiles/nonanol.out : -4846.9808\n",
      "data/outfiles/nonanol.out : -4862.7402\n",
      "data/outfiles/nonanol.out : -4851.7519\n",
      "data/outfiles/nonanol.out : -4909.4545\n",
      "data/outfiles/nonanol.out : -4914.8171\n",
      "data/outfiles/nonanol.out : -4915.2172\n",
      "data/outfiles/nonanol.out : -4930.1387\n",
      "data/outfiles/nonanol.out : -4953.7774\n",
      "data/outfiles/nonanol.out : -4901.9891\n",
      "data/outfiles/nonanol.out : -4905.851\n",
      "data/outfiles/nonanol.out : -4926.3257\n",
      "data/outfiles/nonanol.out : -4917.3863\n",
      "data/outfiles/nonanol.out : -4942.2224\n",
      "data/outfiles/nonanol.out : -4952.2746\n",
      "data/outfiles/nonanol.out : -4916.1854\n",
      "data/outfiles/nonanol.out : -4861.9952\n",
      "data/outfiles/nonanol.out : -4877.2959\n",
      "data/outfiles/nonanol.out : -4826.5819\n",
      "data/outfiles/nonanol.out : -4876.5468\n",
      "data/outfiles/nonanol.out : -4846.8424\n",
      "data/outfiles/nonanol.out : -4843.3569\n",
      "data/outfiles/nonanol.out : -4842.735\n",
      "data/outfiles/nonanol.out : -4834.5641\n",
      "data/outfiles/nonanol.out : -4793.4512\n",
      "data/outfiles/nonanol.out : -4854.0441\n",
      "data/outfiles/nonanol.out : -4874.9529\n",
      "data/outfiles/nonanol.out : -4835.5704\n",
      "data/outfiles/nonanol.out : -4855.0431\n",
      "data/outfiles/nonanol.out : -4865.4151\n",
      "data/outfiles/nonanol.out : -4846.5908\n",
      "data/outfiles/nonanol.out : -4807.5877\n",
      "data/outfiles/nonanol.out : -4811.5955\n",
      "data/outfiles/nonanol.out : -4835.6643\n",
      "data/outfiles/nonanol.out : -4846.6731\n",
      "data/outfiles/nonanol.out : -4851.4884\n",
      "data/outfiles/nonanol.out : -4886.9112\n",
      "data/outfiles/nonanol.out : -4858.1232\n",
      "data/outfiles/nonanol.out : -4869.245\n",
      "data/outfiles/nonanol.out : -4907.4877\n",
      "data/outfiles/nonanol.out : -4954.8636\n",
      "data/outfiles/nonanol.out : -4942.269\n",
      "data/outfiles/nonanol.out : -5004.3931\n",
      "data/outfiles/nonanol.out : -4980.6333\n",
      "data/outfiles/nonanol.out : -4959.0934\n",
      "data/outfiles/nonanol.out : -4942.9824\n",
      "data/outfiles/nonanol.out : -4882.6145\n",
      "data/outfiles/nonanol.out : -4857.1325\n",
      "data/outfiles/nonanol.out : -4916.5311\n",
      "data/outfiles/nonanol.out : -4894.3503\n",
      "data/outfiles/nonanol.out : -4912.1722\n",
      "data/outfiles/nonanol.out : -4912.5805\n",
      "data/outfiles/nonanol.out : -4939.9299\n",
      "data/outfiles/nonanol.out : -4923.4478\n",
      "data/outfiles/nonanol.out : -4885.8822\n",
      "data/outfiles/nonanol.out : -4879.1104\n",
      "data/outfiles/nonanol.out : -4871.2521\n",
      "data/outfiles/nonanol.out : -4846.9889\n",
      "data/outfiles/nonanol.out : -4870.2887\n",
      "data/outfiles/nonanol.out : -4814.2051\n",
      "data/outfiles/nonanol.out : -4782.7933\n",
      "data/outfiles/nonanol.out : -4827.9125\n",
      "data/outfiles/nonanol.out : -4849.4257\n",
      "data/outfiles/nonanol.out : -4896.8849\n",
      "data/outfiles/nonanol.out : -4898.43\n",
      "data/outfiles/nonanol.out : -4887.3311\n",
      "data/outfiles/nonanol.out : -4920.326\n",
      "data/outfiles/nonanol.out : -4929.5851\n",
      "data/outfiles/nonanol.out : -4961.059\n",
      "data/outfiles/nonanol.out : -4904.5845\n",
      "data/outfiles/nonanol.out : -4913.8577\n",
      "data/outfiles/nonanol.out : -4893.3502\n",
      "data/outfiles/nonanol.out : -4872.0999\n",
      "data/outfiles/nonanol.out : -4799.1635\n",
      "data/outfiles/nonanol.out : -4844.1789\n",
      "data/outfiles/nonanol.out : -4857.2238\n",
      "data/outfiles/nonanol.out : -4852.7959\n",
      "data/outfiles/nonanol.out : -4937.0545\n",
      "data/outfiles/nonanol.out : -4932.0827\n",
      "data/outfiles/nonanol.out : -4903.7197\n",
      "data/outfiles/nonanol.out : -4917.5152\n",
      "data/outfiles/nonanol.out : -4917.0623\n",
      "data/outfiles/nonanol.out : -4929.6231\n",
      "data/outfiles/nonanol.out : -4911.2961\n",
      "data/outfiles/nonanol.out : -4900.8126\n",
      "data/outfiles/nonanol.out : -4872.0052\n",
      "data/outfiles/nonanol.out : -4894.1473\n",
      "data/outfiles/nonanol.out : -4926.5634\n",
      "data/outfiles/nonanol.out : -4936.8213\n",
      "data/outfiles/nonanol.out : -4873.3118\n",
      "data/outfiles/nonanol.out : -4926.9161\n",
      "data/outfiles/nonanol.out : -4915.6954\n",
      "data/outfiles/nonanol.out : -4905.3008\n",
      "data/outfiles/nonanol.out : -4890.1921\n",
      "data/outfiles/nonanol.out : -4882.13\n",
      "data/outfiles/nonanol.out : -4916.5499\n",
      "data/outfiles/nonanol.out : -4886.9469\n",
      "data/outfiles/nonanol.out : -4850.5461\n",
      "data/outfiles/nonanol.out : -4859.8111\n",
      "data/outfiles/nonanol.out : -4846.797\n",
      "data/outfiles/nonanol.out : -4842.1241\n",
      "data/outfiles/nonanol.out : -4858.2108\n",
      "data/outfiles/nonanol.out : -4826.8505\n",
      "data/outfiles/nonanol.out : -4795.8374\n",
      "data/outfiles/nonanol.out : -4811.9221\n",
      "data/outfiles/nonanol.out : -4888.6634\n",
      "data/outfiles/nonanol.out : -4909.67\n",
      "data/outfiles/nonanol.out : -4933.4484\n",
      "data/outfiles/nonanol.out : -4977.5063\n",
      "data/outfiles/nonanol.out : -4992.3263\n",
      "data/outfiles/nonanol.out : -4977.7844\n",
      "data/outfiles/nonanol.out : -4966.7665\n",
      "data/outfiles/nonanol.out : -4972.1345\n",
      "data/outfiles/nonanol.out : -4947.9832\n",
      "data/outfiles/nonanol.out : -4974.7886\n",
      "data/outfiles/nonanol.out : -4973.922\n",
      "data/outfiles/nonanol.out : -4942.2304\n",
      "data/outfiles/nonanol.out : -4943.481\n",
      "data/outfiles/nonanol.out : -4932.4172\n",
      "data/outfiles/nonanol.out : -4962.9499\n",
      "data/outfiles/nonanol.out : -4951.652\n",
      "data/outfiles/nonanol.out : -4942.7002\n",
      "data/outfiles/nonanol.out : -4982.3862\n",
      "data/outfiles/nonanol.out : -4983.9897\n",
      "data/outfiles/nonanol.out : -4983.2188\n",
      "data/outfiles/nonanol.out : -4997.9833\n",
      "data/outfiles/nonanol.out : -5056.4832\n",
      "data/outfiles/nonanol.out : -5022.3178\n",
      "data/outfiles/nonanol.out : -4990.2883\n",
      "data/outfiles/nonanol.out : -4955.9855\n",
      "data/outfiles/nonanol.out : -4922.5797\n",
      "data/outfiles/nonanol.out : -4918.2425\n",
      "data/outfiles/nonanol.out : -4901.2145\n",
      "data/outfiles/nonanol.out : -4864.5383\n",
      "data/outfiles/nonanol.out : -4869.5219\n",
      "data/outfiles/nonanol.out : -4922.5511\n",
      "data/outfiles/nonanol.out : -4917.4126\n",
      "data/outfiles/nonanol.out : -4928.8228\n",
      "data/outfiles/nonanol.out : -4829.8013\n",
      "data/outfiles/nonanol.out : 120.4662\n"
     ]
    }
   ],
   "source": [
    "energy_list = []\n",
    "energy_number = []\n",
    "count = 0\n",
    "for line in md_data:\n",
    "    if 'Etot' in line:\n",
    "            energy_line = line\n",
    "            words = energy_line.split()\n",
    "            energy = float(words[2])\n",
    "            energy_list.append(energy)\n",
    "            print(F'{file} : {energy}')\n",
    "            energy_number.append(count)\n",
    "            count += 1"
   ]
  },
  {
   "cell_type": "code",
   "execution_count": 27,
   "metadata": {},
   "outputs": [
    {
     "data": {
      "image/png": "[encoded data removed]",
      "text/plain": [
       "<Figure size 640x480 with 1 Axes>"
      ]
     },
     "metadata": {},
     "output_type": "display_data"
    }
   ],
   "source": [
    "from matplotlib import pyplot as plt\n",
    "plt.plot(energy_number, energy_list)\n",
    "plt.xlim(1, 250)\n",
    "plt.show()"
   ]
  },
  {
   "cell_type": "code",
   "execution_count": null,
   "metadata": {},
   "outputs": [],
   "source": []
  }
 ],
 "metadata": {
  "kernelspec": {
   "display_name": "Python 3 (ipykernel)",
   "language": "python",
   "name": "python3"
  },
  "language_info": {
   "codemirror_mode": {
    "name": "ipython",
    "version": 3
   },
   "file_extension": ".py",
   "mimetype": "text/x-python",
   "name": "python",
   "nbconvert_exporter": "python",
   "pygments_lexer": "ipython3",
   "version": "3.9.13"
  }
 },
 "nbformat": 4,
 "nbformat_minor": 4
}
